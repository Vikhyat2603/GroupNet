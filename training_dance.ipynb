{
 "cells": [
  {
   "cell_type": "code",
   "execution_count": 1,
   "metadata": {},
   "outputs": [],
   "source": [
    "import os\n",
    "import sys\n",
    "import argparse\n",
    "import time\n",
    "import numpy as np\n",
    "import torch\n",
    "import random\n",
    "from torch import optim\n",
    "from torch.optim import lr_scheduler\n",
    "sys.path.append(os.getcwd())\n",
    "from torch.utils.data import DataLoader\n",
    "from data.dataloader_dance import DanceDataset, seq_collate\n",
    "from model.GroupNet_dance import GroupNet\n",
    "import math"
   ]
  },
  {
   "cell_type": "code",
   "execution_count": 2,
   "metadata": {},
   "outputs": [],
   "source": [
    "torch.backends.cudnn.enabled = True\n",
    "torch.backends.cudnn.deterministic = True\n",
    "torch.backends.cudnn.benchmark = True\n",
    "\n",
    "class Args:\n",
    "    def __init__(self):\n",
    "        # Training parameters\n",
    "        self.seed = 1\n",
    "        self.dataset = 'dance'\n",
    "        self.batch_size = 32\n",
    "        self.past_length = 8\n",
    "        self.future_length = 10\n",
    "        self.traj_scale = 1\n",
    "        self.learn_prior = False\n",
    "        self.lr = 1e-4\n",
    "        self.sample_k = 20\n",
    "        self.num_epochs = 100\n",
    "        self.decay_step = 10\n",
    "        self.decay_gamma = 0.5\n",
    "        self.iternum_print = 100\n",
    "\n",
    "        # Model parameters\n",
    "        self.ztype = 'gaussian'\n",
    "        self.zdim = 32\n",
    "        self.hidden_dim = 64\n",
    "        self.hyper_scales = [5,11]\n",
    "        self.num_decompose = 2\n",
    "        self.min_clip = 2.0\n",
    "\n",
    "        # Save/load parameters\n",
    "        self.model_save_dir = 'saved_models/dance'\n",
    "        self.model_save_epoch = 5\n",
    "        self.epoch_continue = 0\n",
    "        self.gpu = 0\n",
    "    \n",
    "    def __str__(self):\n",
    "        return str(self.__dict__)\n",
    "\n",
    "args = Args()"
   ]
  },
  {
   "cell_type": "code",
   "execution_count": 3,
   "metadata": {},
   "outputs": [
    {
     "name": "stdout",
     "output_type": "stream",
     "text": [
      "device: cuda\n",
      "{'seed': 1, 'dataset': 'dance', 'batch_size': 32, 'past_length': 8, 'future_length': 10, 'traj_scale': 1, 'learn_prior': False, 'lr': 0.0001, 'sample_k': 20, 'num_epochs': 100, 'decay_step': 10, 'decay_gamma': 0.5, 'iternum_print': 100, 'ztype': 'gaussian', 'zdim': 32, 'hidden_dim': 64, 'hyper_scales': [5, 11], 'num_decompose': 2, 'min_clip': 2.0, 'model_save_dir': 'saved_models/dance', 'model_save_epoch': 5, 'epoch_continue': 0, 'gpu': 0}\n"
     ]
    }
   ],
   "source": [
    "\"\"\" setup \"\"\"\n",
    "np.random.seed(args.seed)\n",
    "random.seed(args.seed)\n",
    "torch.manual_seed(args.seed)\n",
    "torch.cuda.manual_seed_all(args.seed)\n",
    "torch.set_default_dtype(torch.float32)\n",
    "device = torch.device('cuda') if torch.cuda.is_available() else torch.device('cpu')\n",
    "# device = torch.device('cuda', index=args.gpu) if torch.cuda.is_available() else torch.device('cpu')\n",
    "# if torch.cuda.is_available(): \n",
    "#     torch.cuda.set_device(args.gpu)\n",
    "print('device:',device)\n",
    "print(args)"
   ]
  },
  {
   "cell_type": "code",
   "execution_count": 4,
   "metadata": {},
   "outputs": [],
   "source": [
    "def train(train_loader,epoch):\n",
    "    model.train()\n",
    "    total_iter_num = len(train_loader)\n",
    "    iter_num = 0\n",
    "    for data in train_loader:\n",
    "        total_loss,loss_pred,loss_recover,loss_kl,loss_diverse = model(data)\n",
    "        \"\"\" optimize \"\"\"\n",
    "        optimizer.zero_grad()\n",
    "        total_loss.backward()\n",
    "        optimizer.step()\n",
    "\n",
    "        if iter_num % args.iternum_print == 0:\n",
    "            print('Epochs: {:02d}/{:02d}| It: {:04d}/{:04d} | Total loss: {:03f}| Loss_pred: {:03f}| Loss_recover: {:03f}| Loss_kl: {:03f}| Loss_diverse: {:03f}'\n",
    "            .format(epoch,args.num_epochs,iter_num,total_iter_num,total_loss.item(),loss_pred,loss_recover,loss_kl,loss_diverse))\n",
    "        iter_num += 1\n",
    "\n",
    "    scheduler.step()\n",
    "    model.step_annealer()"
   ]
  },
  {
   "cell_type": "code",
   "execution_count": 5,
   "metadata": {},
   "outputs": [
    {
     "data": {
      "text/plain": [
       "(1702, 18, 53, 6)"
      ]
     },
     "execution_count": 5,
     "metadata": {},
     "output_type": "execute_result"
    }
   ],
   "source": [
    "foo = np.load('datasets/dance/train.npy') \n",
    "foo.shape"
   ]
  },
  {
   "cell_type": "code",
   "execution_count": 6,
   "metadata": {},
   "outputs": [
    {
     "name": "stdout",
     "output_type": "stream",
     "text": [
      "Loaded Train data with shape: (1702, 18, 53, 2)\n",
      "1702\n"
     ]
    }
   ],
   "source": [
    "\"\"\" model & optimizer \"\"\"\n",
    "model = GroupNet(args,device)\n",
    "optimizer = optim.Adam(model.parameters(), lr=args.lr)\n",
    "scheduler = lr_scheduler.StepLR(optimizer, step_size=args.decay_step, gamma=args.decay_gamma)\n",
    "\n",
    "\"\"\" dataloader \"\"\"\n",
    "train_set = DanceDataset(\n",
    "    obs_len=args.past_length,\n",
    "    pred_len=args.future_length,\n",
    "    training=True)\n",
    "\n",
    "train_loader = DataLoader(\n",
    "    train_set,\n",
    "    batch_size=args.batch_size,\n",
    "    shuffle=True,\n",
    "    num_workers=4,\n",
    "    collate_fn=seq_collate,\n",
    "    pin_memory=True)"
   ]
  },
  {
   "cell_type": "code",
   "execution_count": 7,
   "metadata": {},
   "outputs": [],
   "source": [
    "\"\"\" Loading if needed \"\"\"\n",
    "if args.epoch_continue > 0:\n",
    "    checkpoint_path = os.path.join(args.model_save_dir,str(args.epoch_continue)+'.p')\n",
    "    print('load model from: {checkpoint_path}')\n",
    "    model_load = torch.load(checkpoint_path, map_location='cpu')\n",
    "    model.load_state_dict(model_load['model_dict'])\n",
    "    if 'optimizer' in model_load:\n",
    "        optimizer.load_state_dict(model_load['optimizer'])\n",
    "    if 'scheduler' in model_load:\n",
    "        scheduler.load_state_dict(model_load['scheduler'])"
   ]
  },
  {
   "cell_type": "code",
   "execution_count": 8,
   "metadata": {},
   "outputs": [
    {
     "data": {
      "text/plain": [
       "(1702, 18, 53, 2)"
      ]
     },
     "execution_count": 8,
     "metadata": {},
     "output_type": "execute_result"
    }
   ],
   "source": [
    "train_set.trajs.shape"
   ]
  },
  {
   "cell_type": "code",
   "execution_count": null,
   "metadata": {},
   "outputs": [
    {
     "name": "stderr",
     "output_type": "stream",
     "text": [
      "/home/va6hp/GroupNet/model/MS_HGNN_batch.py:476: UserWarning: Implicit dimension choice for softmax has been deprecated. Change the call to include dim=X as an argument.\n",
      "  soft_max_1d = F.softmax(trans_input)\n"
     ]
    },
    {
     "name": "stdout",
     "output_type": "stream",
     "text": [
      "Epochs: 00/100| It: 0000/0054 | Total loss: 16.031925| Loss_pred: 0.986369| Loss_recover: 12.900703| Loss_kl: 2.000000| Loss_diverse: 0.144853\n",
      "Epochs: 01/100| It: 0000/0054 | Total loss: 3.213174| Loss_pred: 0.445052| Loss_recover: 0.701560| Loss_kl: 2.000000| Loss_diverse: 0.066562\n",
      "Epochs: 02/100| It: 0000/0054 | Total loss: 2.514754| Loss_pred: 0.276757| Loss_recover: 0.200157| Loss_kl: 2.000000| Loss_diverse: 0.037840\n"
     ]
    }
   ],
   "source": [
    "\"\"\" start training \"\"\"\n",
    "model.set_device(device)\n",
    "for epoch in range(args.epoch_continue, args.num_epochs):\n",
    "    train(train_loader,epoch)\n",
    "    \"\"\" save model \"\"\"\n",
    "    if  (epoch + 1) % args.model_save_epoch == 0:\n",
    "        model_saved = {'model_dict': model.state_dict(), 'optimizer': optimizer.state_dict(), 'scheduler': scheduler.state_dict(), 'epoch': epoch + 1,'model_cfg': args}\n",
    "        saved_path = os.path.join(args.model_save_dir,str(epoch+1)+'.p')\n",
    "        torch.save(model_saved, saved_path)"
   ]
  }
 ],
 "metadata": {
  "kernelspec": {
   "display_name": ".env",
   "language": "python",
   "name": "python3"
  },
  "language_info": {
   "codemirror_mode": {
    "name": "ipython",
    "version": 3
   },
   "file_extension": ".py",
   "mimetype": "text/x-python",
   "name": "python",
   "nbconvert_exporter": "python",
   "pygments_lexer": "ipython3",
   "version": "3.6.8"
  }
 },
 "nbformat": 4,
 "nbformat_minor": 2
}
