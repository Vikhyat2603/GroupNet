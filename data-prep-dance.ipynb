{
 "cells": [
  {
   "cell_type": "code",
   "execution_count": 1,
   "id": "5aa47cc4",
   "metadata": {},
   "outputs": [],
   "source": [
    "from data.datahelper_dance import load_data\n",
    "import numpy as np"
   ]
  },
  {
   "cell_type": "code",
   "execution_count": 2,
   "id": "6f1daf3b",
   "metadata": {},
   "outputs": [
    {
     "name": "stdout",
     "output_type": "stream",
     "text": [
      "/home/va6hp/GroupNet\n",
      "Original numpy dataset contains 38,309 timesteps of 53 joints with 3 dimensions each.\n",
      "loc_min: -1.8967371874141707 loc_max: 1.5558704656286815\n",
      "vel_min: -45.57506836403084 vel_max: 33.951220235113276\n",
      "loc_min: -0.4843721412027978 loc_max: 0.9283637015363149\n",
      "vel_min: -45.57506836403084 vel_max: 33.951220235113276\n"
     ]
    }
   ],
   "source": [
    "ds_all, ds_all_centered, datasets, datasets_centered, ds_counts = load_data(pattern=\"./datasets/dance/mariel_*.npy\")"
   ]
  },
  {
   "cell_type": "code",
   "execution_count": 3,
   "id": "227ceacf",
   "metadata": {},
   "outputs": [
    {
     "name": "stdout",
     "output_type": "stream",
     "text": [
      "(38309, 53, 6)\n"
     ]
    }
   ],
   "source": [
    "data = ds_all_centered\n",
    "print(data.shape)"
   ]
  },
  {
   "cell_type": "code",
   "execution_count": 4,
   "id": "8e8c18b7",
   "metadata": {},
   "outputs": [
    {
     "data": {
      "text/plain": [
       "((1612, 19, 53, 6), (404, 19, 53, 6))"
      ]
     },
     "execution_count": 4,
     "metadata": {},
     "output_type": "execute_result"
    }
   ],
   "source": [
    "seq_length = 19\n",
    "n_simulations = len(data)//seq_length\n",
    "n_joints = data.shape[2]\n",
    "frames = []\n",
    "edges = []\n",
    "\n",
    "start = 0\n",
    "for n in range(n_simulations):\n",
    "\tsequence = data[start:start+seq_length]\n",
    "\tframes.append(sequence)\n",
    "\tstart += seq_length\n",
    "\n",
    "frames = np.stack(frames)\n",
    "train_end_idx = int(len(frames)*0.8)\n",
    "train_data = frames[:train_end_idx]\n",
    "test_data = frames[train_end_idx:]\n",
    "np.save('datasets/dance/train.npy', train_data)\n",
    "np.save('datasets/dance/test.npy', test_data)\n",
    "train_data.shape, test_data.shape"
   ]
  },
  {
   "cell_type": "code",
   "execution_count": 5,
   "id": "2920597f",
   "metadata": {},
   "outputs": [
    {
     "data": {
      "text/plain": [
       "(19, 53, 3)"
      ]
     },
     "execution_count": 5,
     "metadata": {},
     "output_type": "execute_result"
    }
   ],
   "source": [
    "xtest = train_data[0][:,:,:3]\n",
    "xtest.shape"
   ]
  }
 ],
 "metadata": {
  "kernelspec": {
   "display_name": ".env",
   "language": "python",
   "name": "python3"
  },
  "language_info": {
   "codemirror_mode": {
    "name": "ipython",
    "version": 3
   },
   "file_extension": ".py",
   "mimetype": "text/x-python",
   "name": "python",
   "nbconvert_exporter": "python",
   "pygments_lexer": "ipython3",
   "version": "3.6.8"
  }
 },
 "nbformat": 4,
 "nbformat_minor": 5
}
