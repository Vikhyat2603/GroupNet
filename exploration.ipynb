{
 "cells": [
  {
   "cell_type": "code",
   "execution_count": null,
   "metadata": {},
   "outputs": [],
   "source": [
    "import numpy as np\n",
    "import argparse\n",
    "import os\n",
    "import sys\n",
    "import random\n",
    "sys.path.append(os.getcwd())\n",
    "import torch\n",
    "from data.dataloader_nba import NBADataset, seq_collate\n",
    "from model.GroupNet_nba import GroupNet\n",
    "from torch.utils.data import DataLoader\n",
    "import matplotlib.pyplot as plt\n",
    "from matplotlib import animation\n",
    "import matplotlib.lines as mlines\n",
    "\n",
    "class Constant:\n",
    "\t\"\"\"A class for handling constants\"\"\"\n",
    "\tNORMALIZATION_COEF = 7\n",
    "\tPLAYER_CIRCLE_SIZE = 12 / NORMALIZATION_COEF\n",
    "\tINTERVAL = 10\n",
    "\tDIFF = 6\n",
    "\tX_MIN = 0\n",
    "\tX_MAX = 100\n",
    "\tY_MIN = 0\n",
    "\tY_MAX = 50\n",
    "\tCOL_WIDTH = 0.3\n",
    "\tSCALE = 1.65\n",
    "\tFONTSIZE = 6\n",
    "\tX_CENTER = X_MAX / 2 - DIFF / 1.5 + 0.10\n",
    "\tY_CENTER = Y_MAX - DIFF / 1.5 - 0.35\n",
    "\tMESSAGE = 'You can rerun the script and choose any event from 0 to '\n",
    "\n",
    "def draw_result(future,past,mode='pre'):\n",
    "\t# b n t 2\n",
    "\tprint('drawing...')\n",
    "\ttrajs = np.concatenate((past,future), axis = 2)\n",
    "\tbatch = trajs.shape[0]\n",
    "\tprint('batch:',batch)\n",
    "\n",
    "\tif not os.path.isdir(\"vis/nba/\"):\n",
    "\t\tos.makedirs(\"vis/nba/\")\n",
    "\n",
    "\tfor idx in range(2):\n",
    "\t\tplt.clf()\n",
    "\t\ttraj = trajs[idx]\n",
    "\t\ttraj = traj*94/28\n",
    "\t\tactor_num = traj.shape[0]\n",
    "\t\tlength = traj.shape[1]\n",
    "\t\t\n",
    "\t\tax = plt.axes(xlim=(Constant.X_MIN,\n",
    "\t\t\t\t\t\t\tConstant.X_MAX),\n",
    "\t\t\t\t\t\tylim=(Constant.Y_MIN,\n",
    "\t\t\t\t\t\t\tConstant.Y_MAX))\n",
    "\t\tax.axis('off')\n",
    "\t\tfig = plt.gcf()\n",
    "\t\tax.grid(False)  # Remove grid\n",
    "\n",
    "\t\tcolorteam1 = 'dodgerblue'\n",
    "\t\tcolorteam2 = 'orangered'\n",
    "\t\tcolorball = 'limegreen'\n",
    "\t\tcolorteam1_pre = 'skyblue'\n",
    "\t\tcolorteam2_pre = 'lightsalmon'\n",
    "\t\tcolorball_pre = 'mediumspringgreen'\n",
    "\t\t\n",
    "\t\tfor j in range(actor_num):\n",
    "\t\t\tif j < 5:\n",
    "\t\t\t\tcolor = colorteam1\n",
    "\t\t\t\tcolor_pre = colorteam1_pre\n",
    "\t\t\telif j < 10:\n",
    "\t\t\t\tcolor = colorteam2\n",
    "\t\t\t\tcolor_pre = colorteam2_pre\n",
    "\t\t\telse:\n",
    "\t\t\t\tcolor_pre = colorball_pre\n",
    "\t\t\t\tcolor = colorball\n",
    "\t\t\tfor i in range(length):\n",
    "\t\t\t\tpoints = [(traj[j,i,0],traj[j,i,1])]\n",
    "\t\t\t\t(x, y) = zip(*points)\n",
    "\t\t\t\t# plt.scatter(x, y, color=color,s=20,alpha=0.3+i*((1-0.3)/length))\n",
    "\t\t\t\tif i < 5:\n",
    "\t\t\t\t\tplt.scatter(x, y, color=color_pre,s=20,alpha=1)\n",
    "\t\t\t\telse:\n",
    "\t\t\t\t\tplt.scatter(x, y, color=color,s=20,alpha=1)\n",
    "\n",
    "\t\t\tfor i in range(length-1):\n",
    "\t\t\t\tpoints = [(traj[j,i,0],traj[j,i,1]),(traj[j,i+1,0],traj[j,i+1,1])]\n",
    "\t\t\t\t(x, y) = zip(*points)\n",
    "\t\t\t\t# plt.plot(x, y, color=color,alpha=0.3+i*((1-0.3)/length),linewidth=2)\n",
    "\t\t\t\tif i < 4:\n",
    "\t\t\t\t\tplt.plot(x, y, color=color_pre,alpha=0.5,linewidth=2)\n",
    "\t\t\t\telse:\n",
    "\t\t\t\t\tplt.plot(x, y, color=color,alpha=1,linewidth=2)\n",
    "\n",
    "\t\tcourt = plt.imread(\"datasets/nba/court.png\")\n",
    "\t\tplt.imshow(court, zorder=0, extent=[Constant.X_MIN, Constant.X_MAX - Constant.DIFF,\n",
    "\t\t\t\t\t\t\t\t\t\t\tConstant.Y_MAX, Constant.Y_MIN],alpha=0.5)\n",
    "\t\tif mode == 'pre':\n",
    "\t\t\tplt.savefig('vis/nba/'+str(idx)+'pre.png')\n",
    "\t\telse:\n",
    "\t\t\tplt.savefig('vis/nba/'+str(idx)+'gt.png')\n",
    "\tprint('ok')\n",
    "\treturn \n",
    "\n",
    "def test_model_all(test_loader, args):\n",
    "\ttotal_num_pred = 0\n",
    "\tall_num = 0\n",
    "\tl2error_overall = 0\n",
    "\tl2error_dest = 0\n",
    "\tl2error_avg_04s = 0\n",
    "\tl2error_dest_04s = 0\n",
    "\tl2error_avg_08s = 0\n",
    "\tl2error_dest_08s = 0\n",
    "\tl2error_avg_12s = 0\n",
    "\tl2error_dest_12s = 0\n",
    "\tl2error_avg_16s = 0\n",
    "\tl2error_dest_16s = 0\n",
    "\tl2error_avg_20s = 0\n",
    "\tl2error_dest_20s = 0\n",
    "\tl2error_avg_24s = 0\n",
    "\tl2error_dest_24s = 0\n",
    "\tl2error_avg_28s = 0\n",
    "\tl2error_dest_28s = 0\n",
    "\tl2error_avg_32s = 0\n",
    "\tl2error_dest_32s = 0\n",
    "\tl2error_avg_36s = 0\n",
    "\tl2error_dest_36s = 0\n",
    "\n",
    "\tfor data in test_loader:\n",
    "\t\tfuture_traj = np.array(data['future_traj']) * args.traj_scale # B,N,T,2\n",
    "\t\twith torch.no_grad():\n",
    "\t\t\tprediction = model.inference(data)\n",
    "\t\tprediction = prediction * args.traj_scale\n",
    "\t\tprediction = np.array(prediction.cpu()) #(BN,20,T,2)\n",
    "\t\tbatch = future_traj.shape[0]\n",
    "\t\tactor_num = future_traj.shape[1]\n",
    "\n",
    "\t\ty = np.reshape(future_traj,(batch*actor_num,args.future_length, 2))\n",
    "\t\ty = y[None].repeat(20,axis=0)\n",
    "\t\tl2error_avg_04s += np.mean(np.min(np.mean(np.linalg.norm(y[:,:,:1,:] - prediction[:,:,:1,:], axis = 3),axis=2),axis=0))*batch\n",
    "\t\tl2error_dest_04s += np.mean(np.min(np.mean(np.linalg.norm(y[:,:,0:1,:] - prediction[:,:,0:1,:], axis = 3),axis=2),axis=0))*batch\n",
    "\t\tl2error_avg_08s += np.mean(np.min(np.mean(np.linalg.norm(y[:,:,:2,:] - prediction[:,:,:2,:], axis = 3),axis=2),axis=0))*batch\n",
    "\t\tl2error_dest_08s += np.mean(np.min(np.mean(np.linalg.norm(y[:,:,1:2,:] - prediction[:,:,1:2,:], axis = 3),axis=2),axis=0))*batch\n",
    "\t\tl2error_avg_12s += np.mean(np.min(np.mean(np.linalg.norm(y[:,:,:3,:] - prediction[:,:,:3,:], axis = 3),axis=2),axis=0))*batch\n",
    "\t\tl2error_dest_12s += np.mean(np.min(np.mean(np.linalg.norm(y[:,:,2:3,:] - prediction[:,:,2:3,:], axis = 3),axis=2),axis=0))*batch\n",
    "\t\tl2error_avg_16s += np.mean(np.min(np.mean(np.linalg.norm(y[:,:,:4,:] - prediction[:,:,:4,:], axis = 3),axis=2),axis=0))*batch\n",
    "\t\tl2error_dest_16s += np.mean(np.min(np.mean(np.linalg.norm(y[:,:,3:4,:] - prediction[:,:,3:4,:], axis = 3),axis=2),axis=0))*batch\n",
    "\t\tl2error_avg_20s += np.mean(np.min(np.mean(np.linalg.norm(y[:,:,:5,:] - prediction[:,:,:5,:], axis = 3),axis=2),axis=0))*batch\n",
    "\t\tl2error_dest_20s += np.mean(np.min(np.mean(np.linalg.norm(y[:,:,4:5,:] - prediction[:,:,4:5,:], axis = 3),axis=2),axis=0))*batch\n",
    "\t\tl2error_avg_24s += np.mean(np.min(np.mean(np.linalg.norm(y[:,:,:6,:] - prediction[:,:,:6,:], axis = 3),axis=2),axis=0))*batch\n",
    "\t\tl2error_dest_24s += np.mean(np.min(np.mean(np.linalg.norm(y[:,:,5:6,:] - prediction[:,:,5:6,:], axis = 3),axis=2),axis=0))*batch\n",
    "\t\tl2error_avg_28s += np.mean(np.min(np.mean(np.linalg.norm(y[:,:,:7,:] - prediction[:,:,:7,:], axis = 3),axis=2),axis=0))*batch\n",
    "\t\tl2error_dest_28s += np.mean(np.min(np.mean(np.linalg.norm(y[:,:,6:7,:] - prediction[:,:,6:7,:], axis = 3),axis=2),axis=0))*batch\n",
    "\t\tl2error_avg_32s += np.mean(np.min(np.mean(np.linalg.norm(y[:,:,:8,:] - prediction[:,:,:8,:], axis = 3),axis=2),axis=0))*batch\n",
    "\t\tl2error_dest_32s += np.mean(np.min(np.mean(np.linalg.norm(y[:,:,7:8,:] - prediction[:,:,7:8,:], axis = 3),axis=2),axis=0))*batch\n",
    "\t\tl2error_avg_36s += np.mean(np.min(np.mean(np.linalg.norm(y[:,:,:9,:] - prediction[:,:,:9,:], axis = 3),axis=2),axis=0))*batch\n",
    "\t\tl2error_dest_36s += np.mean(np.min(np.mean(np.linalg.norm(y[:,:,8:9,:] - prediction[:,:,8:9,:], axis = 3),axis=2),axis=0))*batch\n",
    "\t\tl2error_overall += np.mean(np.min(np.mean(np.linalg.norm(y[:,:,:10,:] - prediction[:,:,:10,:], axis = 3),axis=2),axis=0))*batch\n",
    "\t\tl2error_dest += np.mean(np.min(np.mean(np.linalg.norm(y[:,:,9:10,:] - prediction[:,:,9:10,:], axis = 3),axis=2),axis=0))*batch\n",
    "\t\tall_num += batch\n",
    "\n",
    "\tprint(all_num)\n",
    "\tl2error_overall /= all_num\n",
    "\tl2error_dest /= all_num\n",
    "\n",
    "\tl2error_avg_04s /= all_num\n",
    "\tl2error_dest_04s /= all_num\n",
    "\tl2error_avg_08s /= all_num\n",
    "\tl2error_dest_08s /= all_num\n",
    "\tl2error_avg_12s /= all_num\n",
    "\tl2error_dest_12s /= all_num\n",
    "\tl2error_avg_16s /= all_num\n",
    "\tl2error_dest_16s /= all_num\n",
    "\tl2error_avg_20s /= all_num\n",
    "\tl2error_dest_20s /= all_num\n",
    "\tl2error_avg_24s /= all_num\n",
    "\tl2error_dest_24s /= all_num\n",
    "\tl2error_avg_28s /= all_num\n",
    "\tl2error_dest_28s /= all_num\n",
    "\tl2error_avg_32s /= all_num\n",
    "\tl2error_dest_32s /= all_num\n",
    "\tl2error_avg_36s /= all_num\n",
    "\tl2error_dest_36s /= all_num\n",
    "\tprint('##################')\n",
    "\tprint('ADE 1.0s:',(l2error_avg_08s+l2error_avg_12s)/2)\n",
    "\tprint('ADE 2.0s:',l2error_avg_20s)\n",
    "\tprint('ADE 3.0s:',(l2error_avg_32s+l2error_avg_28s)/2)\n",
    "\tprint('ADE 4.0s:',l2error_overall)\n",
    "\n",
    "\tprint('FDE 1.0s:',(l2error_dest_08s+l2error_dest_12s)/2)\n",
    "\tprint('FDE 2.0s:',l2error_dest_20s)\n",
    "\tprint('FDE 3.0s:',(l2error_dest_28s+l2error_dest_32s)/2)\n",
    "\tprint('FDE 4.0s:',l2error_dest)\n",
    "\tprint('##################')\n",
    "\treturn\n",
    "\n",
    "class Arguments:\n",
    "\tdef __init__(self, model_names='model', model_save_dir='saved_models/nba', traj_scale=1, \n",
    "\t\t\t  \tsample_k=20, past_length=10, future_length=10, vis=True, seed=0, gpu=0):\n",
    "\t\tself.model_names = model_names\n",
    "\t\tself.model_save_dir = model_save_dir\n",
    "\t\tself.traj_scale = traj_scale\n",
    "\t\tself.sample_k = sample_k\n",
    "\t\tself.past_length = past_length\n",
    "\t\tself.future_length = future_length\n",
    "\t\tself.vis = vis\n",
    "\t\tself.seed = seed\n",
    "\t\tself.gpu = gpu\n",
    "\t\t"
   ]
  },
  {
   "cell_type": "code",
   "execution_count": null,
   "metadata": {},
   "outputs": [],
   "source": [
    "len(test_dset)"
   ]
  },
  {
   "cell_type": "code",
   "execution_count": null,
   "metadata": {},
   "outputs": [],
   "source": [
    "args = Arguments(model_names='10', past_length=5, future_length=10)\n",
    "\n",
    "\"\"\" setup \"\"\"\n",
    "names = [x for x in args.model_names.split(',')]\n",
    "\n",
    "torch.set_default_dtype(torch.float32)\n",
    "device = torch.device('cuda', index=args.gpu) if args.gpu >= 0 and torch.cuda.is_available() else torch.device('cpu')\n",
    "if torch.cuda.is_available(): torch.cuda.set_device(args.gpu)\n",
    "torch.set_grad_enabled(False)\n",
    "\n",
    "test_dset = NBADataset(\n",
    "\tobs_len=args.past_length,\n",
    "\tpred_len=args.future_length,\n",
    "\ttraining=False)\n",
    "\n",
    "test_loader = DataLoader(\n",
    "\ttest_dset,\n",
    "\tbatch_size=128,\n",
    "\tshuffle=False,\n",
    "\tnum_workers=4,\n",
    "\tcollate_fn=seq_collate,\n",
    "\tpin_memory=True)\n",
    "\n",
    "for name in names:\n",
    "\tnp.random.seed(args.seed)\n",
    "\trandom.seed(args.seed)\n",
    "\ttorch.manual_seed(args.seed)\n",
    "\ttorch.cuda.manual_seed_all(args.seed)\n",
    "\n",
    "\t\"\"\" model \"\"\"\n",
    "\tsaved_path = os.path.join(args.model_save_dir,str(name)+'.p')\n",
    "\tprint('load model from:',saved_path)\n",
    "\tcheckpoint = torch.load(saved_path, map_location='cpu')\n",
    "\ttraining_args = checkpoint['model_cfg']\n",
    "\n",
    "\tmodel = GroupNet(training_args,device)            \n",
    "\tmodel.set_device(device)\n",
    "\tmodel.eval()\n",
    "\tmodel.load_state_dict(checkpoint['model_dict'], strict=True)\n",
    "\n",
    "\tif args.vis:\n",
    "\t\tfor data in test_loader:\n",
    "\t\t\tfuture_traj = np.array(data['future_traj']) * args.traj_scale # B,N,T,2\n",
    "\t\t\tpast_traj = np.array(data['past_traj']) * args.traj_scale # B,N,T,2\n",
    "\t\t\twith torch.no_grad():\n",
    "\t\t\t\tprediction = model.inference(data)\n",
    "\t\t\tprediction = prediction * args.traj_scale\n",
    "\t\t\tprediction = np.array(prediction.cpu()) #(BN,20,T,2)\n",
    "\t\t\tbatch = future_traj.shape[0]\n",
    "\t\t\tactor_num = future_traj.shape[1]\n",
    "\n",
    "\t\t\ty = np.reshape(future_traj,(batch*actor_num,args.future_length, 2))\n",
    "\t\t\ty = y[None].repeat(20,axis=0)\n",
    "\t\t\terror = np.mean(np.linalg.norm(y- prediction,axis=3),axis=2)\n",
    "\t\t\tindices = np.argmin(error, axis = 0)\n",
    "\t\t\tbest_guess = prediction[indices,np.arange(batch*actor_num)]\n",
    "\t\t\tbest_guess = np.reshape(best_guess, (batch,actor_num, args.future_length, 2))\n",
    "\t\t\tgt = np.reshape(future_traj,(batch,actor_num,args.future_length, 2))\n",
    "\t\t\tprevious_3D = np.reshape(past_traj,(batch,actor_num,args.past_length, 2))\n",
    "\n",
    "\t\t\tdraw_result(best_guess,previous_3D)\n",
    "\t\t\tdraw_result(gt,previous_3D,mode='gt')\n",
    "\t\t\tbreak # DONE TO VISUALIZE ONLY ONE BATCH\n",
    "\n",
    "\ttest_model_all(test_loader, args)"
   ]
  },
  {
   "cell_type": "code",
   "execution_count": null,
   "metadata": {},
   "outputs": [],
   "source": [
    "len(test_loader)"
   ]
  },
  {
   "cell_type": "code",
   "execution_count": null,
   "metadata": {},
   "outputs": [],
   "source": [
    "training_args.past_length, training_args.future_length"
   ]
  },
  {
   "cell_type": "code",
   "execution_count": null,
   "metadata": {},
   "outputs": [],
   "source": [
    "test_dset.traj_abs.shape"
   ]
  },
  {
   "cell_type": "code",
   "execution_count": null,
   "metadata": {},
   "outputs": [],
   "source": [
    "import numpy as np"
   ]
  },
  {
   "cell_type": "code",
   "execution_count": null,
   "metadata": {},
   "outputs": [],
   "source": [
    "train = np.load('datasets/nba/train.npy')\n",
    "train.shape"
   ]
  },
  {
   "cell_type": "code",
   "execution_count": null,
   "metadata": {},
   "outputs": [],
   "source": [
    "test = np.load('datasets/nba/test.npy')\n",
    "test.shape"
   ]
  },
  {
   "cell_type": "code",
   "execution_count": null,
   "metadata": {},
   "outputs": [],
   "source": [
    "train[0]"
   ]
  },
  {
   "cell_type": "code",
   "execution_count": null,
   "metadata": {},
   "outputs": [],
   "source": [
    "train[1]"
   ]
  },
  {
   "cell_type": "code",
   "execution_count": null,
   "metadata": {},
   "outputs": [],
   "source": [
    "data = np.load('datasets/mariel_betternot_and_retrograde.npy')"
   ]
  },
  {
   "cell_type": "code",
   "execution_count": null,
   "metadata": {},
   "outputs": [],
   "source": [
    "data.shape"
   ]
  },
  {
   "cell_type": "code",
   "execution_count": 1,
   "metadata": {},
   "outputs": [],
   "source": [
    "from data.datahelper_dance import load_data\n",
    "import numpy as np"
   ]
  },
  {
   "cell_type": "code",
   "execution_count": 4,
   "metadata": {},
   "outputs": [
    {
     "name": "stdout",
     "output_type": "stream",
     "text": [
      "/home/va6hp/GroupNet\n",
      "Original numpy dataset contains 38,309 timesteps of 53 joints with 3 dimensions each.\n",
      "loc_min: -1.8967371874141707 loc_max: 1.5558704656286815\n",
      "vel_min: -45.57506836403084 vel_max: 33.951220235113276\n",
      "loc_min: -0.4843721412027978 loc_max: 0.9283637015363149\n",
      "vel_min: -45.57506836403084 vel_max: 33.951220235113276\n"
     ]
    }
   ],
   "source": [
    "# dance_data = load_data('datasets/dance/mariel_*.npy')\n",
    "ds_all, ds_all_centered, datasets, datasets_centered, ds_counts = load_data(pattern=\"./datasets/dance/mariel_*.npy\")"
   ]
  },
  {
   "cell_type": "code",
   "execution_count": null,
   "metadata": {},
   "outputs": [],
   "source": []
  },
  {
   "cell_type": "code",
   "execution_count": null,
   "metadata": {},
   "outputs": [],
   "source": [
    "for d in dance_data:\n",
    "\tif type(d) == np.ndarray:\n",
    "\t\tprint(d.shape)\n",
    "\telse:\n",
    "\t\tprint(d.keys())"
   ]
  },
  {
   "cell_type": "code",
   "execution_count": null,
   "metadata": {},
   "outputs": [],
   "source": [
    "len(dance_data)"
   ]
  },
  {
   "cell_type": "code",
   "execution_count": null,
   "metadata": {},
   "outputs": [],
   "source": [
    "data[2]['betternot_and_retrograde'].shape"
   ]
  },
  {
   "cell_type": "code",
   "execution_count": null,
   "metadata": {},
   "outputs": [],
   "source": [
    "from glob import glob\n",
    "import os"
   ]
  },
  {
   "cell_type": "code",
   "execution_count": null,
   "metadata": {},
   "outputs": [],
   "source": [
    "os.getcwd()"
   ]
  },
  {
   "cell_type": "code",
   "execution_count": null,
   "metadata": {},
   "outputs": [],
   "source": [
    "glob(\"datasets/dance/mariel_*.npy\")"
   ]
  }
 ],
 "metadata": {
  "kernelspec": {
   "display_name": ".env",
   "language": "python",
   "name": "python3"
  },
  "language_info": {
   "codemirror_mode": {
    "name": "ipython",
    "version": 3
   },
   "file_extension": ".py",
   "mimetype": "text/x-python",
   "name": "python",
   "nbconvert_exporter": "python",
   "pygments_lexer": "ipython3",
   "version": "3.6.8"
  }
 },
 "nbformat": 4,
 "nbformat_minor": 2
}
